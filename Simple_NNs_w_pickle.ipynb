{
  "nbformat": 4,
  "nbformat_minor": 0,
  "metadata": {
    "colab": {
      "name": "Simple_NNs_w_pickle.ipynb",
      "version": "0.3.2",
      "views": {},
      "default_view": {},
      "provenance": [],
      "collapsed_sections": []
    },
    "kernelspec": {
      "name": "python3",
      "display_name": "Python 3"
    },
    "accelerator": "GPU"
  },
  "cells": [
    {
      "metadata": {
        "id": "GffC9yNTnial",
        "colab_type": "code",
        "colab": {
          "autoexec": {
            "startup": false,
            "wait_interval": 0
          }
        }
      },
      "cell_type": "code",
      "source": [
        "!apt-get install -y -qq software-properties-common python-software-properties module-init-tools\n",
        "!add-apt-repository -y ppa:alessandro-strada/ppa 2>&1 > /dev/null\n",
        "!apt-get update -qq 2>&1 > /dev/null\n",
        "!apt-get -y install -qq google-drive-ocamlfuse fuse\n",
        "from google.colab import auth\n",
        "auth.authenticate_user()\n",
        "from oauth2client.client import GoogleCredentials\n",
        "creds = GoogleCredentials.get_application_default()\n",
        "import getpass\n",
        "!google-drive-ocamlfuse -headless -id={creds.client_id} -secret={creds.client_secret} < /dev/null 2>&1 | grep URL\n",
        "vcode = getpass.getpass()\n",
        "!echo {vcode} | google-drive-ocamlfuse -headless -id={creds.client_id} -secret={creds.client_secret}"
      ],
      "execution_count": 0,
      "outputs": []
    },
    {
      "metadata": {
        "id": "Rbp0h4WkoutO",
        "colab_type": "code",
        "colab": {
          "autoexec": {
            "startup": false,
            "wait_interval": 0
          }
        }
      },
      "cell_type": "code",
      "source": [
        "!mkdir -p drive\n",
        "!google-drive-ocamlfuse drive"
      ],
      "execution_count": 0,
      "outputs": []
    },
    {
      "metadata": {
        "id": "xKCjTckT6TZS",
        "colab_type": "code",
        "colab": {
          "autoexec": {
            "startup": false,
            "wait_interval": 0
          }
        }
      },
      "cell_type": "code",
      "source": [
        "# https://opencv.org/\n",
        "!apt-get -qq install -y libsm6 libxext6 && pip install -q -U opencv-python\n",
        "import cv2\n",
        "\n",
        "!pip install keras"
      ],
      "execution_count": 0,
      "outputs": []
    },
    {
      "metadata": {
        "id": "U4HMZPrrrZQu",
        "colab_type": "code",
        "colab": {
          "autoexec": {
            "startup": false,
            "wait_interval": 0
          }
        }
      },
      "cell_type": "code",
      "source": [
        "###############################################################################\n",
        "# Libraries import\n",
        "import numpy as np\n",
        "import pandas as pd\n",
        "import os\n",
        "import sys\n",
        "import matplotlib.pyplot as plt\n",
        "import cv2\n",
        "\n",
        "import itertools\n",
        "from sklearn.model_selection import train_test_split\n",
        "from sklearn.metrics import confusion_matrix\n",
        "\n",
        "from keras.models import Sequential\n",
        "from keras.layers.core import Dense, Dropout, Activation, Flatten\n",
        "from keras.layers.convolutional import Convolution2D, MaxPooling2D, ZeroPadding2D\n",
        "from keras.utils import np_utils\n",
        "from keras.models import model_from_json\n",
        "from sklearn.metrics import log_loss\n",
        "from keras import backend as K\n",
        "from keras.utils import np_utils\n",
        "from keras.layers.normalization import BatchNormalization\n",
        "\n",
        "from keras.preprocessing.image import ImageDataGenerator\n",
        "K.set_image_dim_ordering('th')\n",
        "###############################################################################\n"
      ],
      "execution_count": 0,
      "outputs": []
    },
    {
      "metadata": {
        "id": "00AkC0bLd9dT",
        "colab_type": "code",
        "colab": {
          "autoexec": {
            "startup": false,
            "wait_interval": 0
          }
        }
      },
      "cell_type": "code",
      "source": [
        "# Give a name to id the data used in this training\n",
        "# use the name of validation driver\n",
        "\n",
        "# These are the randomly selected validation divisions created from driver ids:\n",
        "\n",
        "valid_ids= [['p066', 'p021', 'p024'],\n",
        " ['p026', 'p072', 'p015'],\n",
        " ['p052', 'p061', 'p042', 'p081'],\n",
        " ['p016', 'p041', 'p050'],\n",
        " ['p047', 'p064', 'p035'],\n",
        " ['p049', 'p002', 'p012', 'p039'],\n",
        " ['p056', 'p051', 'p022'],\n",
        " ['p075', 'p014', 'p045']]\n",
        "\n",
        "\n",
        "# Select the validation id group to use for this particular training\n",
        "\n",
        "i=7\n",
        "print(valid_ids[i])\n",
        "\n",
        "\n",
        "# generate file name to identify the valid ids group used\n",
        "\n",
        "if len(valid_ids[i]) == 3:\n",
        "  train_data_filename = str(valid_ids[i][0] + \"_\" + valid_ids[i][1] + \"_\" +\n",
        "                         valid_ids[i][2] + \"_1_96_128\")\n",
        "else:\n",
        "  train_data_filename = str(valid_ids[i][0] + \"_\" + valid_ids[i][1] + \"_\" +\n",
        "                          valid_ids[i][2] + \"_\" + valid_ids[i][3] + \"_1_96_128\")\n",
        "    \n",
        "\n",
        "print(train_data_filename)\n",
        "\n",
        "# generate location address for train data\n",
        "train_file_address =  str(\"drive/Colab_Notebooks/x_train_\" + train_data_filename + \".pk1\")\n",
        "train_file_address2 =  str(\"drive/Colab_Notebooks/y_train_xy_valid_\" + train_data_filename + \".pk1\")\n",
        "\n",
        "print(train_file_address)\n",
        "print(train_file_address2)\n",
        "\n",
        "\n",
        "# Create a validation prediction file for dashboard and other visualization \n",
        "# Read the original drivers_img_list for validation drivers only\n",
        "# Short by validation driver in this particular dataset\n",
        "\n",
        "\n",
        "# Read the full drivers list\n",
        "train_driver_list = pd.read_csv('drive/Colab_Notebooks/Data/driver_imgs_list.csv')\n",
        "\n",
        "# filter out only drivers from the validation set\n",
        "valid_df =train_driver_list.loc[train_driver_list['subject'].isin(valid_ids[i])]\n",
        "\n"
      ],
      "execution_count": 0,
      "outputs": []
    },
    {
      "metadata": {
        "id": "xQHQzTnonhng",
        "colab_type": "code",
        "colab": {
          "autoexec": {
            "startup": false,
            "wait_interval": 0
          }
        }
      },
      "cell_type": "code",
      "source": [
        "# Import and read data fromm pickle sets\n",
        "import pickle\n",
        "with open (train_file_address, 'rb') as f:\n",
        "    x_train = pickle.load(f)\n",
        "       \n",
        "with open (train_file_address2, 'rb') as f:\n",
        "    y_train = pickle.load(f)\n",
        "    x_valid = pickle.load(f)\n",
        "    y_valid = pickle.load(f)\n"
      ],
      "execution_count": 0,
      "outputs": []
    },
    {
      "metadata": {
        "id": "0ZLVVtXWOqcU",
        "colab_type": "code",
        "colab": {
          "autoexec": {
            "startup": false,
            "wait_interval": 0
          }
        }
      },
      "cell_type": "code",
      "source": [
        "# Verify data shape\n",
        "print(x_train.shape)\n",
        "print(y_train.shape)\n",
        "print(x_valid.shape)\n",
        "print(y_valid.shape)"
      ],
      "execution_count": 0,
      "outputs": []
    },
    {
      "metadata": {
        "id": "HpgctbQJTyBq",
        "colab_type": "code",
        "colab": {
          "autoexec": {
            "startup": false,
            "wait_interval": 0
          }
        }
      },
      "cell_type": "code",
      "source": [
        "# Name the model type to id weights and results\n",
        "Model_type =  \"simple_NN\"\n"
      ],
      "execution_count": 0,
      "outputs": []
    },
    {
      "metadata": {
        "id": "NNYNmrFAoLgA",
        "colab_type": "code",
        "colab": {
          "autoexec": {
            "startup": false,
            "wait_interval": 0
          }
        }
      },
      "cell_type": "code",
      "source": [
        "# Define some image and class parameters\n",
        "# color type: 1 = grey, 3 = rgb\n",
        "color_type = 1\n",
        "img_rows, img_cols = 96, 128\n",
        "nb_classes = 10  # 2 for \"imgs_sub2\"; 10 for others\n",
        "\n",
        "input_dim = img_rows * img_cols\n",
        "\n",
        "print(input_dim)\n",
        "##############################################################################"
      ],
      "execution_count": 0,
      "outputs": []
    },
    {
      "metadata": {
        "id": "QpRUvyyfw3GZ",
        "colab_type": "code",
        "colab": {
          "autoexec": {
            "startup": false,
            "wait_interval": 0
          }
        }
      },
      "cell_type": "code",
      "source": [
        "# reshape images for the Logistic Regression\n",
        "\n",
        "X_train = x_train.reshape(len(x_train), input_dim) \n",
        "X_valid = x_valid.reshape(len(x_valid), input_dim) \n",
        "X_train = X_train.astype('float32') \n",
        "X_valid = X_valid.astype('float32') "
      ],
      "execution_count": 0,
      "outputs": []
    },
    {
      "metadata": {
        "id": "jtSwImtlS-s3",
        "colab_type": "code",
        "colab": {
          "autoexec": {
            "startup": false,
            "wait_interval": 0
          }
        }
      },
      "cell_type": "code",
      "source": [
        "# Set model batch size and epoch parameters.\n",
        "batch_size =250\n",
        "nb_epoch =100\n",
        "output_dim = nb_classes = 10 \n"
      ],
      "execution_count": 0,
      "outputs": []
    },
    {
      "metadata": {
        "id": "_avvUbRtTAlP",
        "colab_type": "code",
        "colab": {
          "autoexec": {
            "startup": false,
            "wait_interval": 0
          }
        }
      },
      "cell_type": "code",
      "source": [
        "# create a convolution model with keras\n",
        "\n",
        "from keras.optimizers import SGD, Adam, Adadelta, Adamax, RMSprop\n",
        "\n",
        "# Key to select if using as-is data(transposed, resize, grey scale) Or\n",
        "# if using augmented data.  (0 for as-is, 1 for augmented)\n",
        "\n",
        "augm_data = 0\n",
        "\n",
        "print(batch_size)\n",
        "\n",
        "\n",
        "# read saved model, if any\n",
        "model_from_cache = 0\n",
        "if model_from_cache == 1:\n",
        "    model = read_model()\n",
        "    model.compile(loss='categorical_crossentropy', optimizer='adadelta')\n",
        "else:\n",
        "    \n",
        "    model = Sequential() \n",
        "    model.add(Dense(512, input_dim=input_dim, activation='relu'))\n",
        "    model.add(Dropout(0.25))\n",
        "    model.add(Dense(128, activation='relu'))\n",
        "    model.add(Dropout(0.25))\n",
        "    model.add(Dense(nb_classes, activation='softmax')) \n",
        "    \n",
        "    adadel = Adadelta(lr=0.59, rho=0.95, epsilon=None, decay=0.0)\n",
        "    \n",
        "    sgd = SGD(lr=0.0008, momentum=0.35, decay=0.00000001, nesterov=True)\n",
        "    \n",
        "    rms = RMSprop(lr=0.001, rho=0.08, epsilon=None, decay=0.00001)\n",
        "    \n",
        "    adam =  Adam(lr=0.001, beta_1=0.9, beta_2=0.999, epsilon=None, decay=0.0, amsgrad=False)\n",
        "\n",
        "    \n",
        "    model.summary()\n",
        "    \n",
        "    # compile and train model\n",
        "    model.compile(loss='categorical_crossentropy', optimizer= sgd , metrics=['accuracy'])\n",
        "\n",
        "    if augm_data ==  0:\n",
        "        # For Non-augmented data\n",
        "        history = model.fit(X_train, y_train, batch_size=batch_size, epochs=nb_epoch,\n",
        "                  verbose=1, validation_data=(X_valid, y_valid))\n",
        "    else:\n",
        "    # for augmented data\n",
        "        history = model.fit_generator(datagen.flow(X_train, y_train, batch_size=batch_size), \n",
        "                            epochs=nb_epoch,\n",
        "                            verbose=1, steps_per_epoch=len(x_train)/batch_size, \n",
        "                            validation_data=(X_valid, y_valid))\n",
        "\n",
        "model.summary()  # get model summary\n",
        " \n",
        "###############################################################################\n",
        "\n",
        "\n",
        "\n"
      ],
      "execution_count": 0,
      "outputs": []
    },
    {
      "metadata": {
        "id": "hwQ_aSsExbd6",
        "colab_type": "code",
        "colab": {
          "autoexec": {
            "startup": false,
            "wait_interval": 0
          }
        }
      },
      "cell_type": "code",
      "source": [
        "# Score model on train and validation sets.\n",
        "# Create a dataframe to stroe the results from the training\n",
        "# Plot training results\n",
        "train_score = model.evaluate(X_train, y_train, verbose=0)\n",
        "print('train score: ', train_score)\n",
        "\n",
        "valid_score = model.evaluate(X_valid, y_valid, verbose=0)\n",
        "print('valid score: ', valid_score)"
      ],
      "execution_count": 0,
      "outputs": []
    },
    {
      "metadata": {
        "id": "zQ2Au60Y2Syo",
        "colab_type": "code",
        "colab": {
          "autoexec": {
            "startup": false,
            "wait_interval": 0
          }
        }
      },
      "cell_type": "code",
      "source": [
        "# Name the model type to id weights and results\n",
        "Model_type = \"simple_2layer_NN\""
      ],
      "execution_count": 0,
      "outputs": []
    },
    {
      "metadata": {
        "id": "UYClsaxM2c_P",
        "colab_type": "code",
        "colab": {
          "autoexec": {
            "startup": false,
            "wait_interval": 0
          }
        }
      },
      "cell_type": "code",
      "source": [
        "# Save weights if model is acceptable\n",
        "\n",
        "# serialize weights to HDF5\n",
        "weights_filename = 'drive/Colab_Notebooks/Models/' + Model_type + \"_\" + train_data_filename + '_weights.h5'\n",
        "print(str(weights_filename))\n",
        "model.save_weights(weights_filename)\n",
        "\n",
        "#model.save_weights(str(train_data_filename +\".h5\"))\n",
        "#print(\"Saved model to disk\")"
      ],
      "execution_count": 0,
      "outputs": []
    },
    {
      "metadata": {
        "id": "f-1w8BQA3stc",
        "colab_type": "code",
        "colab": {
          "autoexec": {
            "startup": false,
            "wait_interval": 0
          },
          "output_extras": [
            {
              "item_id": 1
            }
          ],
          "base_uri": "https://localhost:8080/",
          "height": 391
        },
        "outputId": "808cdbbc-06e7-47a5-945c-aaa8f9aceaf2",
        "executionInfo": {
          "status": "ok",
          "timestamp": 1520215147201,
          "user_tz": 300,
          "elapsed": 289,
          "user": {
            "displayName": "C Patel",
            "photoUrl": "https://lh3.googleusercontent.com/a/default-user=s128",
            "userId": "113321927891567512676"
          }
        }
      },
      "cell_type": "code",
      "source": [
        "# Create a dataframe to stroe the results from the training for each model\n",
        "# Plot training results\n",
        "\n",
        "results_df = pd.DataFrame(\n",
        "    {'train_loss': history.history['loss'],\n",
        "     'train_acc': history.history['acc'],\n",
        "     'val_loss': history.history['val_loss'],\n",
        "     'val_acc': history.history['val_acc']\n",
        "    })\n",
        "\n",
        "#print(results_df)\n",
        "print(results_df[:10])\n",
        "print(results_df[90:100])\n"
      ],
      "execution_count": 42,
      "outputs": [
        {
          "output_type": "stream",
          "text": [
            "   train_acc  train_loss   val_acc  val_loss\n",
            "0   0.126037    2.328745  0.129660  2.287975\n",
            "1   0.171664    2.245818  0.154101  2.263844\n",
            "2   0.209495    2.194870  0.167357  2.239839\n",
            "3   0.249125    2.145352  0.226181  2.218836\n",
            "4   0.275612    2.105498  0.218310  2.213807\n",
            "5   0.312044    2.059014  0.239851  2.173987\n",
            "6   0.335432    2.018177  0.266363  2.157692\n",
            "7   0.355822    1.973879  0.227838  2.144865\n",
            "8   0.382259    1.929175  0.321458  2.093789\n",
            "9   0.399050    1.883990  0.280447  2.090657\n",
            "    train_acc  train_loss   val_acc  val_loss\n",
            "90   0.929135    0.355041  0.446976  1.899650\n",
            "91   0.931534    0.350309  0.439105  1.878724\n",
            "92   0.930235    0.344951  0.460646  1.822196\n",
            "93   0.933283    0.338642  0.456089  1.905768\n",
            "94   0.931884    0.337151  0.444905  1.852410\n",
            "95   0.934183    0.333886  0.466031  1.770950\n",
            "96   0.933933    0.331054  0.425021  1.996101\n",
            "97   0.935882    0.323250  0.444076  1.891518\n",
            "98   0.934933    0.320001  0.465203  1.857112\n",
            "99   0.937281    0.315061  0.456504  1.894357\n"
          ],
          "name": "stdout"
        }
      ]
    },
    {
      "metadata": {
        "id": "neLhmrYo3tKK",
        "colab_type": "code",
        "colab": {
          "autoexec": {
            "startup": false,
            "wait_interval": 0
          }
        }
      },
      "cell_type": "code",
      "source": [
        "# Save the training results file\n",
        "results_filename = 'drive/Colab_Notebooks/Results/' + Model_type + \"_\" + train_data_filename + '_results.csv'\n",
        "print(results_filename)\n",
        "results_df.to_csv(results_filename, sep=',')\n"
      ],
      "execution_count": 0,
      "outputs": []
    },
    {
      "metadata": {
        "id": "RLS-PMW6zVgo",
        "colab_type": "code",
        "colab": {
          "autoexec": {
            "startup": false,
            "wait_interval": 0
          }
        }
      },
      "cell_type": "code",
      "source": [
        "# function to convert probs to class\n",
        "from skimage.transform import rotate\n",
        "\n",
        "def predictions_results(prediction_probs):\n",
        "    results = []\n",
        "    for pred in prediction_probs:\n",
        "        idx = np.argmax(pred)\n",
        "        result = np.zeros(len(pred))\n",
        "        result[idx] = 1\n",
        "        results.append(result)\n",
        "    return results\n"
      ],
      "execution_count": 0,
      "outputs": []
    },
    {
      "metadata": {
        "id": "sLdMBwx52zSc",
        "colab_type": "code",
        "colab": {
          "autoexec": {
            "startup": false,
            "wait_interval": 0
          }
        }
      },
      "cell_type": "code",
      "source": [
        "\n",
        "\n",
        "# predict on train set just to verify accuracy\n",
        "train_predict_probs = model.predict(X_train, batch_size = batch_size, verbose = 1)\n",
        "\n",
        "# convert prediction probabilities to class array for train set\n",
        "y_train_predicted= predictions_results(train_predict_probs)\n",
        "\n",
        "\n",
        "# convert the true and predicted array into classes\n",
        "\n",
        "# For train data \n",
        "\n",
        "train_true_classes = np.argmax(y_train,  axis=1)\n",
        "train_pred_classes = np.argmax(y_train_predicted,  axis=1)\n",
        "\n"
      ],
      "execution_count": 0,
      "outputs": []
    },
    {
      "metadata": {
        "id": "ZFbqUR5r3Qt7",
        "colab_type": "code",
        "colab": {
          "autoexec": {
            "startup": false,
            "wait_interval": 0
          }
        }
      },
      "cell_type": "code",
      "source": [
        "# Verify predictions for validation set\n",
        "# collect predictions on valid set\n",
        "# Store probs in a dataframe and csv for later use\n",
        "valid_prediction_probs = model.predict(X_valid, batch_size = batch_size, verbose = 1)\n",
        "print(valid_prediction_probs[1])\n",
        "\n",
        "valid_probs_df= pd.DataFrame(valid_prediction_probs)\n",
        "print(valid_probs_df[1:5])\n",
        "valid_probs_filename = 'drive/Colab_Notebooks/Results/' + Model_type + \"_\" + train_data_filename + '_valid_probs.csv'\n",
        "valid_probs_df.to_csv(valid_probs_filename, sep=',')\n",
        "\n",
        "\n",
        "# convert prediction probabilities to class array for validation set\n",
        "y_valid_predicted= predictions_results(valid_prediction_probs)\n",
        "#print(y_valid_predicted[1])\n",
        "\n",
        "\n",
        "# convert the true and predicted array into classes\n",
        "# for validation set\n",
        "\n",
        "valid_true_classes = np.argmax(y_valid,  axis=1)\n",
        "valid_pred_classes = np.argmax(y_valid_predicted,  axis=1)\n",
        "\n"
      ],
      "execution_count": 0,
      "outputs": []
    },
    {
      "metadata": {
        "id": "dIZc_X_O3bW1",
        "colab_type": "code",
        "colab": {
          "autoexec": {
            "startup": false,
            "wait_interval": 0
          }
        }
      },
      "cell_type": "code",
      "source": [
        "# Add the validation predictions to valid_driver_list\n",
        "# Add the true classes for now to ensure that the order of valid_driver_list and predictions is same.\n",
        "#valid_df= pd.DataFrame()\n",
        "valid_df['true'] = valid_true_classes\n",
        "valid_df['pred'] = valid_pred_classes\n",
        "valid_filename = 'drive/Colab_Notebooks/Results/' + Model_type + \"_\" + train_data_filename + '_valid.csv'\n",
        "print(valid_filename)\n",
        "print(valid_df.head(n=5))\n",
        "valid_df.to_csv(valid_filename, sep=',')\n"
      ],
      "execution_count": 0,
      "outputs": []
    },
    {
      "metadata": {
        "id": "atBK5NfJvf1T",
        "colab_type": "code",
        "colab": {
          "autoexec": {
            "startup": false,
            "wait_interval": 0
          }
        }
      },
      "cell_type": "code",
      "source": [
        "# reshape images for the convolution layers\n",
        "x_train = x_train.reshape(x_train.shape[0], color_type, img_rows, img_cols)\n",
        "x_valid = x_valid.reshape(x_valid.shape[0], color_type, img_rows, img_cols)"
      ],
      "execution_count": 0,
      "outputs": []
    },
    {
      "metadata": {
        "id": "vGdHK57-fuqO",
        "colab_type": "code",
        "colab": {
          "autoexec": {
            "startup": false,
            "wait_interval": 0
          }
        }
      },
      "cell_type": "code",
      "source": [
        "###############################################################################\n",
        "# Image augmentation steps    \n",
        "\n",
        "\n",
        "datagen = ImageDataGenerator(\n",
        "       rotation_range=0.2, height_shift_range=0.05, shear_range=0.75, channel_shift_range=0.00001, width_shift_range=0.1)\n",
        "\n",
        "datagen.fit(x_train)\n",
        "\n",
        " \n",
        "# configure batch size and retrieve one batch of images\n",
        "for X_batch, y_batch in datagen.flow(x_train, y_train, batch_size=9):\n",
        "\t# create a grid of 3x3 images\n",
        "\tfor i in range(0, 9):\n",
        "\t\tplt.subplot(330 + 1 + i)\n",
        "\t\tplt.imshow(X_batch[i].reshape(img_rows, img_cols), cmap=plt.get_cmap('gray'))\n",
        "\t# show the plot\n",
        "\tplt.show()\n",
        "\tbreak\n",
        "\n",
        "\n",
        "###############################################################################\n"
      ],
      "execution_count": 0,
      "outputs": []
    },
    {
      "metadata": {
        "id": "4oykqe6yzD56",
        "colab_type": "code",
        "colab": {
          "autoexec": {
            "startup": false,
            "wait_interval": 0
          }
        }
      },
      "cell_type": "code",
      "source": [
        "# Set model batch size and epoch parameters.\n",
        "batch_size =250\n",
        "nb_epoch =100\n",
        "\n",
        "# number of convolutional filters to use\n",
        "nb_filters = 32\n",
        "# size of pooling area for max pooling\n",
        "nb_pool = 3\n",
        "# convolution kernel size\n",
        "nb_conv = 3"
      ],
      "execution_count": 0,
      "outputs": []
    },
    {
      "metadata": {
        "id": "7IW55wKtoTVT",
        "colab_type": "code",
        "colab": {
          "autoexec": {
            "startup": false,
            "wait_interval": 0
          }
        }
      },
      "cell_type": "code",
      "source": [
        "# create a convolution model with keras\n",
        "\n",
        "from keras.optimizers import SGD, Adam, Adadelta, Adamax\n",
        "\n",
        "# Key to select if using as-is data(transposed, resize, grey scale) Or\n",
        "# if using augmented data.  (0 for as-is, 1 for augmented)\n",
        "\n",
        "augm_data = 0\n",
        "\n",
        "print(batch_size)\n",
        "\n",
        "activation = 'relu'\n",
        "\n",
        "\n",
        "# read saved model, if any\n",
        "model_from_cache = 0\n",
        "if model_from_cache == 1:\n",
        "    model = read_model()\n",
        "    model.compile(loss='categorical_crossentropy', optimizer='adadelta')\n",
        "else:\n",
        "    model = Sequential()\n",
        "    model.add(BatchNormalization(axis=1, input_shape=(color_type,img_rows, img_cols)))\n",
        "    # first convolution layer\n",
        "    model.add(Convolution2D(nb_filters, (nb_conv, nb_conv),\n",
        "                            padding=\"same\",\n",
        "                            input_shape=(1, img_rows, img_cols), data_format = 'channels_first'))\n",
        "    \n",
        "    model.add(Activation(activation))\n",
        "    #model.add(Convolution2D(nb_filters, (1, 1)))\n",
        "    model.add(MaxPooling2D(pool_size=(nb_pool, nb_pool)))\n",
        "    model.add(Dropout(0.2))\n",
        "    \n",
        "  \n",
        "    # flatten and dropout layers\n",
        "    model.add(Flatten())\n",
        "    \n",
        "    model.add(Dense(512))\n",
        "    model.add(Activation(activation))\n",
        "    model.add(Dropout(0.4))\n",
        "    \n",
        "    model.add(Dense(128))\n",
        "    model.add(Activation(activation))\n",
        "    model.add(Dropout(0.3))\n",
        "    \n",
        "    # fully connected layer with softmax for probablities\n",
        "    model.add(Dense(nb_classes))\n",
        "    model.add(Activation('softmax'))\n",
        "    \n",
        "    model.summary()\n",
        "    \n",
        "    adadel = Adadelta(lr=1.0, rho=0.95, epsilon=None, decay=0.0)\n",
        "    \n",
        "    sgd = SGD(lr=0.0005, momentum=0.4, decay=0.0000001, nesterov=True)\n",
        "    \n",
        "    \n",
        "    adam =  Adam(lr=0.001, beta_1=0.9, beta_2=0.999, epsilon=None, decay=0.0, amsgrad=False)\n",
        "    \n",
        "    \n",
        "    # compile and train model\n",
        "    model.compile(loss='categorical_crossentropy', optimizer= sgd, metrics=['accuracy'])\n",
        "\n",
        "    if augm_data ==  0:\n",
        "        # For Non-augmented data\n",
        "        history2 = model.fit(x_train, y_train, batch_size=batch_size, epochs=nb_epoch,\n",
        "                  verbose=1, validation_data=(x_valid, y_valid))\n",
        "    else:\n",
        "    # for augmented data\n",
        "        history2 = model.fit_generator(datagen.flow(x_train, y_train, batch_size=batch_size), \n",
        "                            epochs=nb_epoch,\n",
        "                            verbose=1, steps_per_epoch=len(x_train)/batch_size, \n",
        "                            validation_data=(x_valid, y_valid))\n",
        "\n",
        "model.summary()  # get model summary\n",
        " \n",
        "###############################################################################\n",
        "\n",
        "\n",
        "\n"
      ],
      "execution_count": 0,
      "outputs": []
    },
    {
      "metadata": {
        "id": "CxAYra68xeJw",
        "colab_type": "code",
        "colab": {
          "autoexec": {
            "startup": false,
            "wait_interval": 0
          }
        }
      },
      "cell_type": "code",
      "source": [
        "# Score model on train and validation sets.\n",
        "# Create a dataframe to stroe the results from the training\n",
        "# Plot training results\n",
        "train_score = model.evaluate(x_train, y_train, verbose=0)\n",
        "print('train score: ', train_score)\n",
        "\n",
        "valid_score = model.evaluate(x_valid, y_valid, verbose=0)\n",
        "print('valid score: ', valid_score)"
      ],
      "execution_count": 0,
      "outputs": []
    },
    {
      "metadata": {
        "id": "K6z6H0BSFs3F",
        "colab_type": "code",
        "colab": {
          "autoexec": {
            "startup": false,
            "wait_interval": 0
          },
          "output_extras": [
            {
              "item_id": 1
            },
            {
              "item_id": 2
            }
          ],
          "base_uri": "https://localhost:8080/",
          "height": 735
        },
        "outputId": "db82bcb5-3784-48ac-caf3-3332d796af96",
        "executionInfo": {
          "status": "ok",
          "timestamp": 1520216492353,
          "user_tz": 300,
          "elapsed": 707,
          "user": {
            "displayName": "C Patel",
            "photoUrl": "https://lh3.googleusercontent.com/a/default-user=s128",
            "userId": "113321927891567512676"
          }
        }
      },
      "cell_type": "code",
      "source": [
        "# Create a dataframe to stroe the results from the training for each model\n",
        "# Plot training results\n",
        "\n",
        "results_df2 = pd.DataFrame(\n",
        "    {'train_loss': history2.history['loss'],\n",
        "     'train_acc': history2.history['acc'],\n",
        "     'val_loss': history2.history['val_loss'],\n",
        "     'val_acc': history2.history['val_acc']\n",
        "    })\n",
        "\n",
        "\n",
        "\n",
        "\n",
        "# summarize history for accuracy\n",
        "plt.plot(history.history['acc'])\n",
        "plt.plot(history.history['val_acc'])\n",
        "plt.plot(history2.history['acc'])\n",
        "plt.plot(history2.history['val_acc'])\n",
        "plt.title('model accuracy')\n",
        "plt.ylabel('accuracy')\n",
        "plt.xlabel('epoch')\n",
        "plt.legend(['train', 'validation', 'train2', 'validation2'], loc='lower right')\n",
        "plt.show()\n",
        "\n",
        "\n",
        "# summarize history for loss\n",
        "plt.plot(history.history['loss'])\n",
        "plt.plot(history.history['val_loss'])\n",
        "plt.plot(history2.history['loss'])\n",
        "plt.plot(history2.history['val_loss'])\n",
        "plt.title('model loss')\n",
        "plt.ylabel('loss')\n",
        "plt.xlabel('epoch')\n",
        "plt.legend(['train', 'validation', 'train2', 'validation2'], loc='lower right')\n",
        "plt.show()"
      ],
      "execution_count": 53,
      "outputs": [
        {
          "output_type": "display_data",
          "data": {
            "image/png": "[encoded data removed]",
            "text/plain": [
              "<matplotlib.figure.Figure at 0x7f95dc26b780>"
            ]
          },
          "metadata": {
            "tags": []
          }
        },
        {
          "output_type": "display_data",
          "data": {
            "image/png": "[encoded data removed]",
            "text/plain": [
              "<matplotlib.figure.Figure at 0x7f95d34987f0>"
            ]
          },
          "metadata": {
            "tags": []
          }
        }
      ]
    },
    {
      "metadata": {
        "id": "4H6-gAm9GA_2",
        "colab_type": "code",
        "colab": {
          "autoexec": {
            "startup": false,
            "wait_interval": 0
          }
        }
      },
      "cell_type": "code",
      "source": [
        "# Print results\n",
        "\n",
        "print(results_df2[:10])\n",
        "print(results_df2[90:100])"
      ],
      "execution_count": 0,
      "outputs": []
    },
    {
      "metadata": {
        "id": "gSnoYv0dVA4V",
        "colab_type": "code",
        "colab": {
          "autoexec": {
            "startup": false,
            "wait_interval": 0
          }
        }
      },
      "cell_type": "code",
      "source": [
        "# Name the model type to id weights and results\n",
        "Model_type2 = \"simple_Conv\""
      ],
      "execution_count": 0,
      "outputs": []
    },
    {
      "metadata": {
        "id": "xuRN9_9fIyN8",
        "colab_type": "code",
        "colab": {
          "autoexec": {
            "startup": false,
            "wait_interval": 0
          }
        }
      },
      "cell_type": "code",
      "source": [
        "# Save weights if model is acceptable\n",
        "\n",
        "# serialize weights to HDF5\n",
        "weights_filename = 'drive/Colab_Notebooks/Models/' + Model_type2 + \"_\" + train_data_filename + '_weights.h5'\n",
        "print(str(weights_filename))\n",
        "model.save_weights(weights_filename)\n",
        "\n",
        "#model.save_weights(str(train_data_filename +\".h5\"))\n",
        "#print(\"Saved model to disk\")"
      ],
      "execution_count": 0,
      "outputs": []
    },
    {
      "metadata": {
        "id": "5je78jnjLwVR",
        "colab_type": "code",
        "colab": {
          "autoexec": {
            "startup": false,
            "wait_interval": 0
          }
        }
      },
      "cell_type": "code",
      "source": [
        "# Save the training results file\n",
        "results_filename2 = 'drive/Colab_Notebooks/Results/' + Model_type2 + \"_\" + train_data_filename + '_results.csv'\n",
        "print(results_filename2)\n",
        "results_df2.to_csv(results_filename2, sep=',')"
      ],
      "execution_count": 0,
      "outputs": []
    },
    {
      "metadata": {
        "id": "4-MiOkLMqnw3",
        "colab_type": "code",
        "colab": {
          "autoexec": {
            "startup": false,
            "wait_interval": 0
          }
        }
      },
      "cell_type": "code",
      "source": [
        "from skimage.transform import rotate\n",
        "def show_image(image):\n",
        "    img = image.squeeze()\n",
        "    plt.axis(\"off\")\n",
        "    #plt.imshow(cv2.cvtColor(image, cv2.COLOR_BGR2RGB))\n",
        "    plt.imshow(np.fliplr(rotate(img, 270)), cmap='gray', interpolation='nearest')  \n",
        "    # Manipulation to display image in the correct orientation!\n",
        "    plt.show() \n",
        "    #print image.shape\n",
        "    #plt.imshow(image)"
      ],
      "execution_count": 0,
      "outputs": []
    },
    {
      "metadata": {
        "id": "e8YfqbRtqNID",
        "colab_type": "code",
        "colab": {
          "autoexec": {
            "startup": false,
            "wait_interval": 0
          }
        }
      },
      "cell_type": "code",
      "source": [
        "\n",
        "\n",
        "# predict on train set just to verify accuracy\n",
        "train_predict_probs = model.predict(x_train, batch_size = batch_size, verbose = 1)\n",
        "\n",
        "# convert prediction probabilities to class array for train set\n",
        "y_train_predicted2= predictions_results(train_predict_probs)\n",
        "\n",
        "\n",
        "# convert the true and predicted array into classes\n",
        "\n",
        "# For train data \n",
        "\n",
        "train_true_classes = np.argmax(y_train,  axis=1)\n",
        "train_pred_classes2 = np.argmax(y_train_predicted2,  axis=1)\n",
        "\n",
        "\n",
        "# View some actual and predicted examples train set\n",
        "for num in np.random.choice(len(y_train),2, replace = False):\n",
        "    show_image(x_train[num])\n",
        "    print(\"y_train true array:\", y_train[num])\n",
        "    print(\"y_train true class: c\" + str(train_true_classes[num]))\n",
        "    print(\"y_train predicted array:\", y_train_predicted2[num])\n",
        "    print(\"y_train predicted class: c\" + str(train_pred_classes2[num]))"
      ],
      "execution_count": 0,
      "outputs": []
    },
    {
      "metadata": {
        "id": "iM9s5Dq5rGlS",
        "colab_type": "code",
        "colab": {
          "autoexec": {
            "startup": false,
            "wait_interval": 0
          }
        }
      },
      "cell_type": "code",
      "source": [
        "# Verify predictions for validation set\n",
        "# collect predictions on valid set\n",
        "# Store probs in a dataframe and csv for later use\n",
        "valid_prediction_probs = model.predict(x_valid, batch_size = batch_size, verbose = 1)\n",
        "print(valid_prediction_probs[1])\n",
        "\n",
        "valid_probs_df= pd.DataFrame(valid_prediction_probs)\n",
        "print(valid_probs_df[1:5])\n",
        "valid_probs_filename = 'drive/Colab_Notebooks/Results/' + Model_type2 + \"_\" + train_data_filename + '_valid_probs.csv'\n",
        "valid_probs_df.to_csv(valid_probs_filename, sep=',')\n",
        "\n",
        "\n",
        "# convert prediction probabilities to class array for validation set\n",
        "y_valid_predicted= predictions_results(valid_prediction_probs)\n",
        "#print(y_valid_predicted[1])\n",
        "\n",
        "\n",
        "# convert the true and predicted array into classes\n",
        "# for validation set\n",
        "\n",
        "valid_true_classes = np.argmax(y_valid,  axis=1)\n",
        "valid_pred_classes = np.argmax(y_valid_predicted,  axis=1)\n",
        "\n",
        "\n",
        "\n",
        "# View some actual and predicted examples validation set\n",
        "for num in np.random.choice(len(y_valid), 2, replace = False):\n",
        "    show_image(x_valid[num])\n",
        "    print(\"y_valid true array:\", y_valid[num])\n",
        "    print(\"y_valid true class: c\" + str(valid_true_classes[num]))\n",
        "    print(\"y_valid predicted array:\", y_valid_predicted[num])\n",
        "    print(\"y_valid predicted class: c\" + str(valid_pred_classes[num]))\n",
        "\n",
        "\n",
        "###############################################################################"
      ],
      "execution_count": 0,
      "outputs": []
    },
    {
      "metadata": {
        "id": "VKYhPb0nROg-",
        "colab_type": "code",
        "colab": {
          "autoexec": {
            "startup": false,
            "wait_interval": 0
          }
        }
      },
      "cell_type": "code",
      "source": [
        "# Add the validation predictions to valid_driver_list\n",
        "# Add the true classes for now to ensure that the order of valid_driver_list and predictions is same.\n",
        "#valid_df= pd.DataFrame()\n",
        "valid_df['true'] = valid_true_classes\n",
        "valid_df['pred'] = valid_pred_classes\n",
        "valid_filename = 'drive/Colab_Notebooks/Results/' + Model_type2 + \"_\" + train_data_filename + '_valid.csv'\n",
        "print(valid_filename)\n",
        "print(valid_df.head(n=5))\n",
        "valid_df.to_csv(valid_filename, sep=',')\n",
        "\n"
      ],
      "execution_count": 0,
      "outputs": []
    },
    {
      "metadata": {
        "id": "IpamqC9CrURQ",
        "colab_type": "code",
        "colab": {
          "autoexec": {
            "startup": false,
            "wait_interval": 0
          }
        }
      },
      "cell_type": "code",
      "source": [
        "\n",
        "# Confusion Matrix\n",
        "\n",
        "class_names = ['c0', 'c1', 'c2', 'c3', 'c4', 'c5', 'c6', 'c7', 'c8', 'c9']\n",
        "class_names2 = ['c0', 'c1']\n",
        "\n",
        "\n",
        "def plot_confusion_matrix(cm, classes,\n",
        "                          normalize=False,\n",
        "                          title='Confusion matrix',\n",
        "                          cmap=plt.cm.Blues):\n",
        "    \"\"\"\n",
        "    This function prints and plots the confusion matrix.\n",
        "    Normalization can be applied by setting `normalize=True`.\n",
        "    \"\"\"\n",
        "    if normalize:\n",
        "        cm = cm.astype('float') / cm.sum(axis=1)[:, np.newaxis]\n",
        "        print(\"Normalized confusion matrix\")\n",
        "    else:\n",
        "        print('Confusion matrix, without normalization')\n",
        "\n",
        "    print(cm)\n",
        "\n",
        "    plt.imshow(cm, interpolation='nearest', cmap=cmap)\n",
        "    plt.title(title)\n",
        "    plt.colorbar()\n",
        "    tick_marks = np.arange(len(classes))\n",
        "    plt.xticks(tick_marks, classes, rotation=45)\n",
        "    plt.yticks(tick_marks, classes)\n",
        "\n",
        "    fmt = '.2f' if normalize else 'd'\n",
        "    thresh = cm.max() / 2.\n",
        "    for i, j in itertools.product(range(cm.shape[0]), range(cm.shape[1])):\n",
        "        plt.text(j, i, format(cm[i, j], fmt),\n",
        "                 horizontalalignment=\"center\",\n",
        "                 color=\"white\" if cm[i, j] > thresh else \"black\")\n",
        "\n",
        "    plt.tight_layout()\n",
        "    plt.ylabel('True label')\n",
        "    plt.xlabel('Predicted label')\n",
        "\n",
        "# Compute confusion matrix\n",
        "    \n",
        "# Train data\n",
        "cnf_matrix = confusion_matrix(train_true_classes, train_pred_classes)\n",
        "np.set_printoptions(precision=2)\n",
        "\n",
        "# Plot non-normalized confusion matrix\n",
        "plt.figure()\n",
        "plot_confusion_matrix(cnf_matrix, classes=class_names,\n",
        "                      title='Confusion matrix, without normalization')\n",
        "\n",
        "# Plot normalized confusion matrix\n",
        "plt.figure()\n",
        "plot_confusion_matrix(cnf_matrix, classes=class_names, normalize=True,\n",
        "                      title='Normalized confusion matrix')\n",
        "\n",
        "plt.show()\n",
        "\n",
        "\n",
        "# Valid data\n",
        "\n",
        "cnf_matrix = confusion_matrix(valid_true_classes, valid_pred_classes)\n",
        "np.set_printoptions(precision=2)\n",
        "\n",
        "# Plot non-normalized confusion matrix\n",
        "plt.figure()\n",
        "plot_confusion_matrix(cnf_matrix, classes=class_names,\n",
        "                      title='Confusion matrix, without normalization')\n",
        "\n",
        "# Plot normalized confusion matrix\n",
        "plt.figure()\n",
        "plot_confusion_matrix(cnf_matrix, classes=class_names, normalize=True,\n",
        "                      title='Normalized confusion matrix')\n",
        "\n",
        "plt.show()\n",
        "\n",
        "###############################################################################"
      ],
      "execution_count": 0,
      "outputs": []
    },
    {
      "metadata": {
        "id": "kDKy_0AtrbN7",
        "colab_type": "code",
        "colab": {
          "autoexec": {
            "startup": false,
            "wait_interval": 0
          },
          "output_extras": [
            {
              "item_id": 1
            }
          ],
          "base_uri": "https://localhost:8080/",
          "height": 272
        },
        "outputId": "03f0179d-37cc-407c-8e54-d2c380772974",
        "executionInfo": {
          "status": "ok",
          "timestamp": 1520210609215,
          "user_tz": 300,
          "elapsed": 513,
          "user": {
            "displayName": "C Patel",
            "photoUrl": "https://lh3.googleusercontent.com/a/default-user=s128",
            "userId": "113321927891567512676"
          }
        }
      },
      "cell_type": "code",
      "source": [
        "# Metrics\n",
        "\n",
        "from sklearn.metrics import precision_recall_fscore_support\n",
        "precision_recall_fscore_support(valid_true_classes, valid_pred_classes, average='weighted')\n",
        "\n",
        "\n",
        "from sklearn.metrics import classification_report\n",
        "print(classification_report(valid_true_classes, valid_pred_classes, target_names=class_names))\n"
      ],
      "execution_count": 63,
      "outputs": [
        {
          "output_type": "stream",
          "text": [
            "             precision    recall  f1-score   support\n",
            "\n",
            "         c0       0.07      0.02      0.03       257\n",
            "         c1       0.43      0.45      0.44       253\n",
            "         c2       0.13      0.01      0.01       252\n",
            "         c3       0.37      0.81      0.51       259\n",
            "         c4       0.41      0.65      0.50       257\n",
            "         c5       1.00      0.92      0.96       261\n",
            "         c6       0.93      0.63      0.75       257\n",
            "         c7       0.56      0.75      0.64       248\n",
            "         c8       0.75      0.35      0.48       219\n",
            "         c9       0.47      0.67      0.55       240\n",
            "\n",
            "avg / total       0.51      0.53      0.49      2503\n",
            "\n"
          ],
          "name": "stdout"
        }
      ]
    },
    {
      "metadata": {
        "id": "Vl-5BimArdtJ",
        "colab_type": "code",
        "colab": {
          "autoexec": {
            "startup": false,
            "wait_interval": 0
          }
        }
      },
      "cell_type": "code",
      "source": [
        "# compare predicts with actual and count correct and incorrect classificaitons\n",
        "correct_class = []\n",
        "wrong_class = []\n",
        "c = 0\n",
        "\n",
        "for yc, yp in zip(valid_true_classes, valid_pred_classes):\n",
        "    if yc == yp:\n",
        "        #print \"correct_class: Class {}, {} predicted\".format(np.argmax(yclass), np.argmax(ypredict))\n",
        "        correct_class.append([c, yp])\n",
        "    else:\n",
        "        #print \"wrong_class!: Class {}, {} predicted\".format(np.argmax(yclass), np.argmax(ypredict))\n",
        "        wrong_class.append([c, yp])\n",
        "    c += 1\n",
        "    \n",
        "print(\"correct_classfully validated {} / {} = {}%\".format(len(correct_class), c, (float(len(correct_class))/float(c))*100))\n",
        "#print \"correct_class: {}\".format(correct_class)\n",
        "#print \"wrong_class: {}\".format(wrong_class)\n",
        "\n",
        "# Create labels to assign to predictions and plot examples\n",
        "# labels for org data (use for full data or sub1)\n",
        "labels_org = [  'c0: safe driving',\n",
        "            'c1: texting - right',\n",
        "            'c2: talking on the phone - right',\n",
        "            'c3: texting - left',\n",
        "            'c4: talking on the phone - left',\n",
        "            'c5: operating the radio',\n",
        "            'c6: drinking',\n",
        "            'c7: reaching behind',\n",
        "            'c8: hair and makeup',\n",
        "            'c9: talking to passenger']\n",
        "\n",
        "# labels for two category sub2 data\n",
        "labels_sub2 = [  'c0: safe driving',\n",
        "            'c1: distracted driving']\n",
        "\n",
        "# set correct labels\n",
        "labels=labels_org\n",
        "\n",
        "    \n",
        "#print correct_class examples\n",
        "\n",
        "print(\"Sample of images validated correctly:\")\n",
        "for s in np.random.choice(len(correct_class), 5, replace = False):\n",
        "    print(\"***************\\nRendering image {}\".format(s))\n",
        "    image = x_valid[correct_class[s][0]]\n",
        "    show_image(image)\n",
        "    print(\"Classified correctly as {}\\n\".format(labels[np.argmax(y_valid_predicted[correct_class[s][0]])]))\n",
        "    \n",
        "    \n",
        "# print wrong classification examples    \n",
        "print(\"Sample of images validated incorrectly:\")\n",
        "for s in np.random.choice(len(wrong_class), 5, replace = False):\n",
        "    print(\"***************\\nRendering image {}\".format(s))\n",
        "    image = x_valid[wrong_class[s][0]]\n",
        "    show_image(image)\n",
        "    print(\"Classified incorrectly as {}\\n\".format(labels[np.argmax(y_valid_predicted[wrong_class[s][0]])]))\n",
        "    \n",
        "\n"
      ],
      "execution_count": 0,
      "outputs": []
    }
  ]
}